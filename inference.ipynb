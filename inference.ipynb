{
 "cells": [
  {
   "cell_type": "markdown",
   "metadata": {},
   "source": [
    "## Load Model and Dataset\n"
   ]
  },
  {
   "cell_type": "code",
   "execution_count": 1,
   "metadata": {},
   "outputs": [],
   "source": [
    "import os\n",
    "os.environ[\"CUDA_VISIBLE_DEVICES\"] = \"1\""
   ]
  },
  {
   "cell_type": "code",
   "execution_count": null,
   "metadata": {},
   "outputs": [],
   "source": [
    "from inferencing_utils import *\n",
    "\n",
    "path = \"monkey_model\"\n",
    "tokenizer = load_tokenizer(path)\n",
    "model = load_model(path)"
   ]
  },
  {
   "cell_type": "code",
   "execution_count": null,
   "metadata": {},
   "outputs": [],
   "source": [
    "import json\n",
    "from edge_dataset.dataset import EDGETensorDataset\n",
    "\n",
    "with open(\"training_configs/test.json\") as f:\n",
    "    dataset_meta = json.load(f)[\"train\"]\n",
    "dataset = EDGETensorDataset(tokenizer, dataset_meta=dataset_meta)\n",
    "\n",
    "# dataset = EDGETensorDataset(tokenizer, items_filepath=\"edge_dataset/processed/test_data.jsonl\")\n",
    "dataset.dump_jsonl_items(\"edge_dataset/processed/test_data.jsonl\")"
   ]
  },
  {
   "cell_type": "code",
   "execution_count": null,
   "metadata": {},
   "outputs": [],
   "source": [
    "dataset.get_raw_qa(10, \"rico_tasks\", \"ricosca\")"
   ]
  },
  {
   "cell_type": "markdown",
   "metadata": {},
   "source": [
    "## Manual Inference\n"
   ]
  },
  {
   "cell_type": "code",
   "execution_count": null,
   "metadata": {},
   "outputs": [],
   "source": [
    "from inferencing_utils import *\n",
    "\n",
    "index = 5\n",
    "predict_sample_from_dataset(model, tokenizer, dataset, index, task=\"rico_tasks\", elem_task=\"ricosca\")"
   ]
  },
  {
   "cell_type": "code",
   "execution_count": null,
   "metadata": {},
   "outputs": [],
   "source": [
    "from inferencing_utils import *\n",
    "\n",
    "\n",
    "img_path = \"example_images/iphone.png\"\n",
    "query = \"Where is the icon of Safari? (with bbox (x1, y1, x2, y2))\"\n",
    "\n",
    "# img_path = 'example_images/heatmap.png'     \n",
    "# query = \"How can I share this page with others?\"\n",
    "\n",
    "# img_path = 'example_images/monitor.png'    \n",
    "# query = \"How can I view the disk usage?\"\n",
    "\n",
    "# img_path = 'example_images/appstore.png'   \n",
    "# query = \"Where should I click to find apps for children? (with point (x, y))\"\n",
    "\n",
    "# img_path = \"example_images/vue.png\"\n",
    "# query = \"How can I directly use Vue online?\"\n",
    "\n",
    "\n",
    "generate_freeform(model, tokenizer, img_path=img_path, query=query)"
   ]
  }
 ],
 "metadata": {
  "kernelspec": {
   "display_name": "cxt_monkey",
   "language": "python",
   "name": "python3"
  },
  "language_info": {
   "codemirror_mode": {
    "name": "ipython",
    "version": 3
   },
   "file_extension": ".py",
   "mimetype": "text/x-python",
   "name": "python",
   "nbconvert_exporter": "python",
   "pygments_lexer": "ipython3",
   "version": "3.9.19"
  }
 },
 "nbformat": 4,
 "nbformat_minor": 2
}
